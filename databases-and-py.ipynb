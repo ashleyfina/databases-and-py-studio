{
    "metadata": {
        "kernelspec": {
            "name": "python3",
            "display_name": "Python 3 (ipykernel)",
            "language": "python"
        },
        "language_info": {
            "name": "python",
            "version": "3.8.10",
            "mimetype": "text/x-python",
            "codemirror_mode": {
                "name": "ipython",
                "version": 3
            },
            "pygments_lexer": "ipython3",
            "nbconvert_exporter": "python",
            "file_extension": ".py"
        }
    },
    "nbformat_minor": 2,
    "nbformat": 4,
    "cells": [
        {
            "cell_type": "markdown",
            "source": [
                "# Studio: Working with Databases in Python\n",
                "\n",
                "For today's studio, we will be using the [TV Shows dataset](https://www.kaggle.com/ruchi798/tv-shows-on-netflix-prime-video-hulu-and-disney) from Kaggle. We have already downloaded the CSV for you.\n",
                "\n",
                "You will also be using the watchlist you just created to figure out which streaming services contain the shows that you want to watch next so you can decide which one is worth the money to you.\n",
                "\n",
                "As you complete the different tasks in the studio, you may choose between using Pandas or SQL. Remember that during the prep work, we learned that one is oftentimes more efficient at certain tasks than the other, so choose wisely!"
            ],
            "metadata": {
                "azdata_cell_guid": "54326aff-51cd-4766-8046-828a92489c6d"
            },
            "attachments": {}
        },
        {
            "cell_type": "markdown",
            "source": [
                "## My Watchlist\n",
                "\n",
                "If you would like, please use this space to make note of your watchlist by editing the text cell."
            ],
            "metadata": {
                "azdata_cell_guid": "00bc62ef-6c46-40a2-bdad-a3250a003ce7"
            },
            "attachments": {}
        },
        {
            "cell_type": "markdown",
            "source": [
                "## Database Setup\n",
                "\n",
                "To start with, import the necessary libraries and create a dataframe from the provided CSV. Print the info out for the dataframe. After that, you may drop the column called `Unnamed: 0` and rename any columns with spaces in the names or unusual characters such as `\"+\"`. Print out the info for the dataframe again to ensure that your changes were effective."
            ],
            "metadata": {
                "azdata_cell_guid": "040bdac5-f7fc-474f-b112-1d807249ad0a"
            }
        },
        {
            "cell_type": "code",
            "source": [
                "import sqlite3 as sl \r\n",
                "import pandas as pd \r\n",
                "\r\n",
                "df = pd.read_csv(\"tv_shows.csv\")\r\n",
                "\r\n",
                "df.head()"
            ],
            "metadata": {
                "azdata_cell_guid": "965f15d3-27b1-43ed-97e4-8c6fd482476c",
                "tags": [],
                "language": "python"
            },
            "outputs": [
                {
                    "data": {
                        "text/plain": "   Unnamed: 0  ID             Title  Year  Age    IMDb Rotten Tomatoes  \\\n0           0   1      Breaking Bad  2008  18+  9.4/10         100/100   \n1           1   2   Stranger Things  2016  16+  8.7/10          96/100   \n2           2   3   Attack on Titan  2013  18+  9.0/10          95/100   \n3           3   4  Better Call Saul  2015  18+  8.8/10          94/100   \n4           4   5              Dark  2017  16+  8.8/10          93/100   \n\n   Netflix  Hulu  Prime Video  Disney+  Type  \n0        1     0            0        0     1  \n1        1     0            0        0     1  \n2        1     1            0        0     1  \n3        1     0            0        0     1  \n4        1     0            0        0     1  ",
                        "text/html": "<div>\n<style scoped>\n    .dataframe tbody tr th:only-of-type {\n        vertical-align: middle;\n    }\n\n    .dataframe tbody tr th {\n        vertical-align: top;\n    }\n\n    .dataframe thead th {\n        text-align: right;\n    }\n</style>\n<table border=\"1\" class=\"dataframe\">\n  <thead>\n    <tr style=\"text-align: right;\">\n      <th></th>\n      <th>Unnamed: 0</th>\n      <th>ID</th>\n      <th>Title</th>\n      <th>Year</th>\n      <th>Age</th>\n      <th>IMDb</th>\n      <th>Rotten Tomatoes</th>\n      <th>Netflix</th>\n      <th>Hulu</th>\n      <th>Prime Video</th>\n      <th>Disney+</th>\n      <th>Type</th>\n    </tr>\n  </thead>\n  <tbody>\n    <tr>\n      <th>0</th>\n      <td>0</td>\n      <td>1</td>\n      <td>Breaking Bad</td>\n      <td>2008</td>\n      <td>18+</td>\n      <td>9.4/10</td>\n      <td>100/100</td>\n      <td>1</td>\n      <td>0</td>\n      <td>0</td>\n      <td>0</td>\n      <td>1</td>\n    </tr>\n    <tr>\n      <th>1</th>\n      <td>1</td>\n      <td>2</td>\n      <td>Stranger Things</td>\n      <td>2016</td>\n      <td>16+</td>\n      <td>8.7/10</td>\n      <td>96/100</td>\n      <td>1</td>\n      <td>0</td>\n      <td>0</td>\n      <td>0</td>\n      <td>1</td>\n    </tr>\n    <tr>\n      <th>2</th>\n      <td>2</td>\n      <td>3</td>\n      <td>Attack on Titan</td>\n      <td>2013</td>\n      <td>18+</td>\n      <td>9.0/10</td>\n      <td>95/100</td>\n      <td>1</td>\n      <td>1</td>\n      <td>0</td>\n      <td>0</td>\n      <td>1</td>\n    </tr>\n    <tr>\n      <th>3</th>\n      <td>3</td>\n      <td>4</td>\n      <td>Better Call Saul</td>\n      <td>2015</td>\n      <td>18+</td>\n      <td>8.8/10</td>\n      <td>94/100</td>\n      <td>1</td>\n      <td>0</td>\n      <td>0</td>\n      <td>0</td>\n      <td>1</td>\n    </tr>\n    <tr>\n      <th>4</th>\n      <td>4</td>\n      <td>5</td>\n      <td>Dark</td>\n      <td>2017</td>\n      <td>16+</td>\n      <td>8.8/10</td>\n      <td>93/100</td>\n      <td>1</td>\n      <td>0</td>\n      <td>0</td>\n      <td>0</td>\n      <td>1</td>\n    </tr>\n  </tbody>\n</table>\n</div>"
                    },
                    "metadata": {},
                    "execution_count": 7,
                    "output_type": "execute_result"
                }
            ],
            "execution_count": 7
        },
        {
            "cell_type": "code",
            "source": [
                "df = df.drop(columns = ['Unnamed: 0'])"
            ],
            "metadata": {
                "language": "python",
                "azdata_cell_guid": "01f402d3-293e-4e97-98a8-27601aef7e4c"
            },
            "outputs": [],
            "execution_count": 8
        },
        {
            "cell_type": "code",
            "source": [
                "df = df.rename(columns = {'Rotten Tomatoes':'RT', 'Prime Video':'Prime', 'Disney+':'Disney'})\r\n",
                "df.head()"
            ],
            "metadata": {
                "language": "python",
                "azdata_cell_guid": "c435e2ac-e1db-48e3-b18d-67c574e1f057"
            },
            "outputs": [
                {
                    "data": {
                        "text/plain": "   ID             Title  Year  Age    IMDb       RT  Netflix  Hulu  Prime  \\\n0   1      Breaking Bad  2008  18+  9.4/10  100/100        1     0      0   \n1   2   Stranger Things  2016  16+  8.7/10   96/100        1     0      0   \n2   3   Attack on Titan  2013  18+  9.0/10   95/100        1     1      0   \n3   4  Better Call Saul  2015  18+  8.8/10   94/100        1     0      0   \n4   5              Dark  2017  16+  8.8/10   93/100        1     0      0   \n\n   Disney  Type  \n0       0     1  \n1       0     1  \n2       0     1  \n3       0     1  \n4       0     1  ",
                        "text/html": "<div>\n<style scoped>\n    .dataframe tbody tr th:only-of-type {\n        vertical-align: middle;\n    }\n\n    .dataframe tbody tr th {\n        vertical-align: top;\n    }\n\n    .dataframe thead th {\n        text-align: right;\n    }\n</style>\n<table border=\"1\" class=\"dataframe\">\n  <thead>\n    <tr style=\"text-align: right;\">\n      <th></th>\n      <th>ID</th>\n      <th>Title</th>\n      <th>Year</th>\n      <th>Age</th>\n      <th>IMDb</th>\n      <th>RT</th>\n      <th>Netflix</th>\n      <th>Hulu</th>\n      <th>Prime</th>\n      <th>Disney</th>\n      <th>Type</th>\n    </tr>\n  </thead>\n  <tbody>\n    <tr>\n      <th>0</th>\n      <td>1</td>\n      <td>Breaking Bad</td>\n      <td>2008</td>\n      <td>18+</td>\n      <td>9.4/10</td>\n      <td>100/100</td>\n      <td>1</td>\n      <td>0</td>\n      <td>0</td>\n      <td>0</td>\n      <td>1</td>\n    </tr>\n    <tr>\n      <th>1</th>\n      <td>2</td>\n      <td>Stranger Things</td>\n      <td>2016</td>\n      <td>16+</td>\n      <td>8.7/10</td>\n      <td>96/100</td>\n      <td>1</td>\n      <td>0</td>\n      <td>0</td>\n      <td>0</td>\n      <td>1</td>\n    </tr>\n    <tr>\n      <th>2</th>\n      <td>3</td>\n      <td>Attack on Titan</td>\n      <td>2013</td>\n      <td>18+</td>\n      <td>9.0/10</td>\n      <td>95/100</td>\n      <td>1</td>\n      <td>1</td>\n      <td>0</td>\n      <td>0</td>\n      <td>1</td>\n    </tr>\n    <tr>\n      <th>3</th>\n      <td>4</td>\n      <td>Better Call Saul</td>\n      <td>2015</td>\n      <td>18+</td>\n      <td>8.8/10</td>\n      <td>94/100</td>\n      <td>1</td>\n      <td>0</td>\n      <td>0</td>\n      <td>0</td>\n      <td>1</td>\n    </tr>\n    <tr>\n      <th>4</th>\n      <td>5</td>\n      <td>Dark</td>\n      <td>2017</td>\n      <td>16+</td>\n      <td>8.8/10</td>\n      <td>93/100</td>\n      <td>1</td>\n      <td>0</td>\n      <td>0</td>\n      <td>0</td>\n      <td>1</td>\n    </tr>\n  </tbody>\n</table>\n</div>"
                    },
                    "metadata": {},
                    "execution_count": 9,
                    "output_type": "execute_result"
                }
            ],
            "execution_count": 9
        },
        {
            "cell_type": "markdown",
            "source": [
                "With your dataframe at the ready, create a new database called `tv`. Add a new table to your database called `shows` using the data in the dataframe. "
            ],
            "metadata": {
                "azdata_cell_guid": "93875e01-f1ec-45ab-b8b3-c0fe09c89c41"
            },
            "attachments": {}
        },
        {
            "cell_type": "code",
            "source": [
                "df.to_sql('shows', con)"
            ],
            "metadata": {
                "azdata_cell_guid": "a19a45e1-4828-42ec-b7ac-6dcbf19a7251",
                "language": "python"
            },
            "outputs": [
                {
                    "traceback": [
                        "\u001b[1;31m---------------------------------------------------------------------------\u001b[0m",
                        "\u001b[1;31mNameError\u001b[0m                                 Traceback (most recent call last)",
                        "Cell \u001b[1;32mIn[10], line 1\u001b[0m\n\u001b[1;32m----> 1\u001b[0m df\u001b[38;5;241m.\u001b[39mto_sql(\u001b[38;5;124m'\u001b[39m\u001b[38;5;124mshows\u001b[39m\u001b[38;5;124m'\u001b[39m, \u001b[43mcon\u001b[49m)\n",
                        "\u001b[1;31mNameError\u001b[0m: name 'con' is not defined"
                    ],
                    "ename": "NameError",
                    "evalue": "name 'con' is not defined",
                    "output_type": "error"
                }
            ],
            "execution_count": 10
        },
        {
            "cell_type": "markdown",
            "source": [
                "With your new table and database set up, print out the top 20 records in the `shows` table."
            ],
            "metadata": {
                "azdata_cell_guid": "4916f211-149f-467b-b5e4-22ad946b54f2"
            },
            "attachments": {}
        },
        {
            "cell_type": "code",
            "source": [
                "data = con.execute(\"SELECT * FROM shows LIMIT 5\")\r\n",
                "for row in data:\r\n",
                "    print(row)"
            ],
            "metadata": {
                "azdata_cell_guid": "c6aa3980-3eef-4d7d-8f04-961508662147",
                "tags": [],
                "language": "python"
            },
            "outputs": [
                {
                    "output_type": "stream",
                    "name": "stdout",
                    "text": "(0, 1, 'Breaking Bad', 2008, '18+', '9.4/10', '100/100', 1, 0, 0, 0, 1)\n(1, 2, 'Stranger Things', 2016, '16+', '8.7/10', '96/100', 1, 0, 0, 0, 1)\n(2, 3, 'Attack on Titan', 2013, '18+', '9.0/10', '95/100', 1, 1, 0, 0, 1)\n(3, 4, 'Better Call Saul', 2015, '18+', '8.8/10', '94/100', 1, 0, 0, 0, 1)\n(4, 5, 'Dark', 2017, '16+', '8.8/10', '93/100', 1, 0, 0, 0, 1)\n"
                }
            ],
            "execution_count": 59
        },
        {
            "cell_type": "markdown",
            "source": [
                "Now add a table that includes an id number and the titles on your watchlist."
            ],
            "metadata": {
                "azdata_cell_guid": "f158ccd2-c87a-4d2c-a947-0eadd0484a3e"
            },
            "attachments": {}
        },
        {
            "cell_type": "code",
            "source": [
                "watchlist = pd.DataFrame({\r\n",
                "    'id' : [1, 2, 3, 4, 5, 6, 7, 8],\r\n",
                "    'title' : [\r\n",
                "        'the good place',\r\n",
                "        'spy x family',\r\n",
                "        'sandman',\r\n",
                "        'sailor moon',\r\n",
                "        'pokemon',\r\n",
                "        'cobra kai',\r\n",
                "        'the witcher',\r\n",
                "        'naruto']\r\n",
                "    })\r\n",
                ""
            ],
            "metadata": {
                "azdata_cell_guid": "f95defad-521b-4112-8435-08daaac80b80",
                "language": "python"
            },
            "outputs": [],
            "execution_count": 76
        },
        {
            "cell_type": "code",
            "source": [
                "watchlist.to_sql('watchlist', con)"
            ],
            "metadata": {
                "language": "python",
                "azdata_cell_guid": "c31a6ed2-f7fe-4c79-96a7-234457440896"
            },
            "outputs": [
                {
                    "output_type": "execute_result",
                    "execution_count": 77,
                    "data": {
                        "text/plain": "8"
                    },
                    "metadata": {}
                }
            ],
            "execution_count": 77
        },
        {
            "cell_type": "code",
            "source": [
                "data = con.execute(\"SELECT * FROM watchlist\")\r\n",
                "for row in data:\r\n",
                "    print(row)"
            ],
            "metadata": {
                "language": "python",
                "azdata_cell_guid": "13a36bdd-c3a9-4038-b949-f564d160df67"
            },
            "outputs": [
                {
                    "output_type": "stream",
                    "name": "stdout",
                    "text": "(0, 1, 'the good place')\n(1, 2, 'spy x family')\n(2, 3, 'sandman')\n(3, 4, 'sailor moon')\n(4, 5, 'pokemon')\n(5, 6, 'cobra kai')\n(6, 7, 'the witcher')\n(7, 8, 'naruto')\n"
                }
            ],
            "execution_count": 78
        },
        {
            "cell_type": "markdown",
            "source": [
                "## Working with the Data\n",
                "\n",
                "Using either Pandas or SQL, determine how many shows are on each streaming service and what the mean is for each streaming service. \n",
                "\n",
                "**Note**: You may notice that the mean represents the percentage of shows in the dataframe that are on each streaming service. Take a moment to think about why that is."
            ],
            "metadata": {
                "azdata_cell_guid": "4716090d-63e3-4283-8245-934c4a28c750"
            },
            "attachments": {}
        },
        {
            "cell_type": "code",
            "source": [
                "con.execute('SELECT * FROM shows WHERE Title LIKE (SELECT title FROM watchlist)')"
            ],
            "metadata": {
                "azdata_cell_guid": "8e4f3757-474f-4e20-b861-db973437b541",
                "language": "python"
            },
            "outputs": [
                {
                    "output_type": "execute_result",
                    "execution_count": 84,
                    "data": {
                        "text/plain": "<sqlite3.Cursor at 0x22d60909b90>"
                    },
                    "metadata": {}
                }
            ],
            "execution_count": 84
        },
        {
            "cell_type": "code",
            "source": [
                "print(df['Netflix'].value_counts())\r\n",
                "print(df['Hulu'].value_counts())\r\n",
                "print(df['Disney'].value_counts())"
            ],
            "metadata": {
                "language": "python",
                "azdata_cell_guid": "9d33f9ed-91c0-4b58-a14d-14acfdf790d3"
            },
            "outputs": [
                {
                    "output_type": "stream",
                    "name": "stdout",
                    "text": "0    3397\n1    1971\nName: Netflix, dtype: int64\n"
                }
            ],
            "execution_count": 89
        },
        {
            "cell_type": "markdown",
            "source": [
                "Join your watchlist data with the shows data to determine which streaming services your watchlist shows are on and make a new table in your database using the joined data. Print out the data in your joined table to see what shows on your watchlist on in the original dataset. With the joined data, determine the percentage of your watchlist shows that are on each streaming service and how many of your watchlist shows are on each streaming service."
            ],
            "metadata": {
                "azdata_cell_guid": "167cbd0d-ad9f-4f27-8066-e45dfdfaf421"
            },
            "attachments": {}
        },
        {
            "cell_type": "code",
            "source": [
                "streaming_df = pd.read_sql(\"\"\"\r\n",
                "    SELECT watchlist.title, shows.Netflix, shows.Hulu, shows.Prime, shows.Disney \r\n",
                "    FROM watchlist\r\n",
                "    JOIN shows ON shows.Title == watchlist.title;\r\n",
                "\"\"\", con)\r\n",
                "\r\n",
                "streaming_df.to_sql('watchlist_streaming', con)"
            ],
            "metadata": {
                "language": "python",
                "azdata_cell_guid": "4ea57f10-4de5-47d0-840c-af147d0ae325"
            },
            "outputs": [
                {
                    "traceback": [
                        "\u001b[1;31m---------------------------------------------------------------------------\u001b[0m",
                        "\u001b[1;31mNameError\u001b[0m                                 Traceback (most recent call last)",
                        "Cell \u001b[1;32mIn[3], line 5\u001b[0m\n\u001b[0;32m      1\u001b[0m streaming_df \u001b[38;5;241m=\u001b[39m pd\u001b[38;5;241m.\u001b[39mread_sql(\u001b[38;5;124m\"\"\"\u001b[39m\n\u001b[0;32m      2\u001b[0m \u001b[38;5;124m    SELECT watchlist.title, shows.Netflix, shows.Hulu, shows.Prime, shows.Disney \u001b[39m\n\u001b[0;32m      3\u001b[0m \u001b[38;5;124m    FROM watchlist\u001b[39m\n\u001b[0;32m      4\u001b[0m \u001b[38;5;124m    JOIN shows ON shows.Title == watchlist.title;\u001b[39m\n\u001b[1;32m----> 5\u001b[0m \u001b[38;5;124m\"\"\"\u001b[39m, \u001b[43mcon\u001b[49m)\n\u001b[0;32m      7\u001b[0m streaming_df\u001b[38;5;241m.\u001b[39mto_sql(\u001b[38;5;124m'\u001b[39m\u001b[38;5;124mwatchlist_streaming\u001b[39m\u001b[38;5;124m'\u001b[39m, con)\n",
                        "\u001b[1;31mNameError\u001b[0m: name 'con' is not defined"
                    ],
                    "ename": "NameError",
                    "evalue": "name 'con' is not defined",
                    "output_type": "error"
                }
            ],
            "execution_count": 3
        },
        {
            "cell_type": "code",
            "source": [
                "print(streaming_df.head(10))\r\n",
                "\r\n",
                "print(streaming_df.info())\r\n",
                "\r\n",
                "print(streaming_df.describe())\r\n",
                "\r\n",
                "print(streaming_df['Netflix'].value_counts())\r\n",
                "print(streaming_df['Hulu'].value_counts())\r\n",
                "print(streaming_df['Prime'].value_counts())\r\n",
                "print(streaming_df['Disney'].value_counts())"
            ],
            "metadata": {
                "language": "python",
                "azdata_cell_guid": "2cf2d913-ad16-4b9f-8155-486964bcfd4e",
                "tags": []
            },
            "outputs": [
                {
                    "output_type": "stream",
                    "name": "stdout",
                    "text": "Empty DataFrame\nColumns: [title, Netflix, Hulu, Prime, Disney]\nIndex: []\n<class 'pandas.core.frame.DataFrame'>\nIndex: 0 entries\nData columns (total 5 columns):\n #   Column   Non-Null Count  Dtype \n---  ------   --------------  ----- \n 0   title    0 non-null      object\n 1   Netflix  0 non-null      object\n 2   Hulu     0 non-null      object\n 3   Prime    0 non-null      object\n 4   Disney   0 non-null      object\ndtypes: object(5)\nmemory usage: 108.0+ bytes\nNone\n       title Netflix Hulu Prime Disney\ncount      0       0    0     0      0\nunique     0       0    0     0      0\ntop      NaN     NaN  NaN   NaN    NaN\nfreq     NaN     NaN  NaN   NaN    NaN\nSeries([], Name: Netflix, dtype: int64)\nSeries([], Name: Hulu, dtype: int64)\nSeries([], Name: Prime, dtype: int64)\nSeries([], Name: Disney, dtype: int64)\n"
                }
            ],
            "execution_count": 104
        },
        {
            "cell_type": "markdown",
            "source": [
                "## Results\n",
                "\n",
                "Now that you have done your analysis, make note of the answers to the following questions by editing the text cell:\n",
                "\n",
                "1. Was every show on your watchlist in the Kaggle dataset? Do you have any ideas as to why a show might not have been present?\n",
                "2. Did you include a show or shows in your watchlist that is exclusive to one of the platforms? How might that have impacted your analysis?\n",
                "2. Which streaming service(s) offered the most shows on your watchlist? Which streaming service(s) offered the least?\n",
                "3. Based on the shows you want to watch and the results of your analysis, is there a streaming service you think would be a good fit for you?"
            ],
            "metadata": {
                "azdata_cell_guid": "909689e4-1aae-41e3-b1f8-158ebe5ec3ca"
            }
        }
    ]
}